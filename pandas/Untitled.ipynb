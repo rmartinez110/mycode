{
 "cells": [
  {
   "cell_type": "code",
   "execution_count": null,
   "id": "d321ea61-0888-4c75-b3cd-7dc062e2cf5b",
   "metadata": {},
   "outputs": [],
   "source": []
  },
  {
   "cell_type": "markdown",
   "id": "12923115-ca60-4961-9397-d01608849fd2",
   "metadata": {},
   "source": [
    "# Introduction to Pandas\n",
    "\n",
    "### What we are gonna learn:\n",
    "\n",
    "- import speadsheet into pandas\n",
    "- convert it into a dataframe\n",
    "- sort the data\n",
    "- clean/filter the data\n",
    "- return a portion of the data answering a question: \"what were the highest grossing movies?\""
   ]
  },
  {
   "cell_type": "code",
   "execution_count": 1,
   "id": "f6084ea6-03b8-4b29-b0a8-91bb61673611",
   "metadata": {
    "tags": []
   },
   "outputs": [],
   "source": [
    "import pandas as pd"
   ]
  },
  {
   "cell_type": "code",
   "execution_count": 2,
   "id": "6b459090-cf5f-48ef-b656-2f5b3704150c",
   "metadata": {
    "tags": []
   },
   "outputs": [
    {
     "data": {
      "text/plain": [
       "'movies.xls'"
      ]
     },
     "execution_count": 2,
     "metadata": {},
     "output_type": "execute_result"
    }
   ],
   "source": [
    "excel_file = 'movies.xls'\n",
    "\n",
    "excel_file"
   ]
  },
  {
   "cell_type": "markdown",
   "id": "3b2303de-c4b6-410c-8a10-7b4129c315c2",
   "metadata": {},
   "source": [
    "# When data is inserted into pandas, it is turned into a datafrome"
   ]
  },
  {
   "cell_type": "code",
   "execution_count": 5,
   "id": "98d57524-352f-498f-baaa-84620eb3b26b",
   "metadata": {
    "tags": []
   },
   "outputs": [],
   "source": [
    "movies_sheet1 = pd.read_excel(excel_file)"
   ]
  },
  {
   "cell_type": "code",
   "execution_count": null,
   "id": "e7712844-0c33-463a-a1e3-9a77d763adad",
   "metadata": {},
   "outputs": [],
   "source": [
    "movies_sheet2 = pd.read_excel(excel_file, sheet_name=2"
   ]
  }
 ],
 "metadata": {
  "kernelspec": {
   "display_name": "Python 3 (ipykernel)",
   "language": "python",
   "name": "python3"
  },
  "language_info": {
   "codemirror_mode": {
    "name": "ipython",
    "version": 3
   },
   "file_extension": ".py",
   "mimetype": "text/x-python",
   "name": "python",
   "nbconvert_exporter": "python",
   "pygments_lexer": "ipython3",
   "version": "3.10.12"
  }
 },
 "nbformat": 4,
 "nbformat_minor": 5
}
